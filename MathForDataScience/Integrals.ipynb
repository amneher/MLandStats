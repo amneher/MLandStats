{
 "cells": [
  {
   "cell_type": "code",
   "execution_count": 1,
   "id": "c0d4d32b-e41e-4f27-8a47-1185712178e3",
   "metadata": {},
   "outputs": [],
   "source": [
    "from sympy import *"
   ]
  },
  {
   "cell_type": "code",
   "execution_count": 3,
   "id": "b462cd2c-99ba-48ba-b23b-20cc5f6cfe8a",
   "metadata": {},
   "outputs": [],
   "source": [
    "# We can approximate the area under a curve in a given range using n rectangles of a given width.\n",
    "# As we increase the number of rectangles and decrease their width, the approximation gets closer\n",
    "# to the actual value, but never quite reaching it. \n",
    "# This is where Integrals come in...\n",
    "x = symbols('x')\n",
    "# the function of our line:\n",
    "f = x**2 + 1"
   ]
  },
  {
   "cell_type": "code",
   "execution_count": 4,
   "id": "406e9c39-10c9-4121-b4a9-5ed70bc5302e",
   "metadata": {},
   "outputs": [
    {
     "name": "stdout",
     "output_type": "stream",
     "text": [
      "4/3\n"
     ]
    }
   ],
   "source": [
    "# Calculate the integral of the function with respect to x for the area between 0 and 1\n",
    "area = integrate(f, (x, 0, 1))\n",
    "print(area)"
   ]
  },
  {
   "cell_type": "code",
   "execution_count": null,
   "id": "a4d29ba3-30ff-4ea2-ab70-ed5a022c9d51",
   "metadata": {},
   "outputs": [],
   "source": []
  }
 ],
 "metadata": {
  "kernelspec": {
   "display_name": "Python 3 (ipykernel)",
   "language": "python",
   "name": "python3"
  },
  "language_info": {
   "codemirror_mode": {
    "name": "ipython",
    "version": 3
   },
   "file_extension": ".py",
   "mimetype": "text/x-python",
   "name": "python",
   "nbconvert_exporter": "python",
   "pygments_lexer": "ipython3",
   "version": "3.8.16"
  }
 },
 "nbformat": 4,
 "nbformat_minor": 5
}
