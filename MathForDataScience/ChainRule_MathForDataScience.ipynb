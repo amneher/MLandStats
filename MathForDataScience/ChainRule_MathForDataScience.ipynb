{
 "cells": [
  {
   "cell_type": "code",
   "execution_count": 1,
   "id": "946ed9b6-5f5b-403e-a903-bda96e39b6e9",
   "metadata": {},
   "outputs": [],
   "source": [
    "from sympy import *"
   ]
  },
  {
   "cell_type": "code",
   "execution_count": 7,
   "id": "084b7473-b11b-4b62-8e26-96e3c315d9fc",
   "metadata": {},
   "outputs": [],
   "source": [
    "# __Chain Rule__\n",
    "# for a given function y (with input var x) composed into another function z (with input var y),\n",
    "# we can find the derivative of z with respect to x by multiplying the two respective derivatives together.\n",
    "x, y = symbols('x y')"
   ]
  },
  {
   "cell_type": "code",
   "execution_count": 3,
   "id": "b3e6269b-c0c5-488f-af75-e36b8ec96682",
   "metadata": {},
   "outputs": [],
   "source": [
    "# derivative for first function\n",
    "# _y to avoid name clash\n",
    "_y = x**2 + 1\n",
    "dy_dx = diff(_y)"
   ]
  },
  {
   "cell_type": "code",
   "execution_count": 4,
   "id": "d11d6658-482d-435a-ac3c-a8362bb79ecb",
   "metadata": {},
   "outputs": [],
   "source": [
    "# derivative for second function\n",
    "z = y**3 - 2\n",
    "dz_dy = diff(z)"
   ]
  },
  {
   "cell_type": "code",
   "execution_count": 5,
   "id": "19e7efcb-39f3-4b4a-b911-408d5f6acc1f",
   "metadata": {},
   "outputs": [],
   "source": [
    "# calculate derivatives with and without Chain Rule, substitute y function.\n",
    "dz_dx_chain = (dy_dx * dz_dy).subs(y, _y)\n",
    "dz_dx_no_chain = diff(z.subs(y, _y))"
   ]
  },
  {
   "cell_type": "code",
   "execution_count": 6,
   "id": "9450565f-20eb-4081-8cac-6269c5e3fb31",
   "metadata": {},
   "outputs": [
    {
     "name": "stdout",
     "output_type": "stream",
     "text": [
      "6*x*(x**2 + 1)**2\n",
      "6*x*(x**2 + 1)**2\n"
     ]
    }
   ],
   "source": [
    "# prove Chain Rule by showing both are equal\n",
    "print(dz_dx_chain)\n",
    "print(dz_dx_no_chain)"
   ]
  },
  {
   "cell_type": "code",
   "execution_count": null,
   "id": "ff6e6014-7ac4-44f7-a4f1-82c584fbeed0",
   "metadata": {},
   "outputs": [],
   "source": []
  }
 ],
 "metadata": {
  "kernelspec": {
   "display_name": "Python 3 (ipykernel)",
   "language": "python",
   "name": "python3"
  },
  "language_info": {
   "codemirror_mode": {
    "name": "ipython",
    "version": 3
   },
   "file_extension": ".py",
   "mimetype": "text/x-python",
   "name": "python",
   "nbconvert_exporter": "python",
   "pygments_lexer": "ipython3",
   "version": "3.8.16"
  }
 },
 "nbformat": 4,
 "nbformat_minor": 5
}
