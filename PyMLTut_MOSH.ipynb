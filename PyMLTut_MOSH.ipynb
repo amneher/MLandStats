{
 "cells": [
  {
   "cell_type": "code",
   "execution_count": 8,
   "id": "5e85f8b8-7f62-4430-bf73-22e37105256e",
   "metadata": {},
   "outputs": [
    {
     "data": {
      "text/plain": [
       "1.0"
      ]
     },
     "execution_count": 8,
     "metadata": {},
     "output_type": "execute_result"
    }
   ],
   "source": [
    "import pandas as pd\n",
    "from sklearn.tree import DecisionTreeClassifier\n",
    "from sklearn.model_selection import train_test_split\n",
    "from sklearn.metrics import accuracy_score\n",
    "import joblib\n",
    "from sklearn import tree\n",
    "\n",
    "music_data = pd.read_csv('music.csv')\n",
    "X = music_data.drop(columns=['genre'])\n",
    "y = music_data['genre']\n",
    "X_train, X_test, y_train, y_test = train_test_split(X, y, test_size=0.2)\n",
    "\n",
    "# create model, fit model to data\n",
    "model = DecisionTreeClassifier()\n",
    "model.fit(X_train, y_train)\n",
    "\n",
    "# save model\n",
    "joblib.dump(model, \"music-recommender.joblib\")\n",
    "\n",
    "# load model\n",
    "model = joblib.load(\"music-recommender.joblib\")\n",
    "\n",
    "# output model in graphical format\n",
    "tree.export_graphviz(model, \"music-recommender.dot\",\n",
    "                     feature_names=['age', 'gender'],\n",
    "                     class_names=sorted(y.unique()),\n",
    "                     label='all',\n",
    "                     rounded=True,\n",
    "                     filled=True)\n",
    "\n",
    "# # predict ( from loaded model, without csv data)\n",
    "# predictions = model.predict([ [21, 1], [22, 0]])\n",
    "# predictions\n",
    "\n",
    "# predict ( from split csv data)\n",
    "predictions = model.predict(X_test)\n",
    "\n",
    "# check model accuracy\n",
    "score = accuracy_score(y_test, predictions)\n",
    "score\n",
    "# accuracy scores vary widely when there isn't enough training data."
   ]
  },
  {
   "cell_type": "code",
   "execution_count": null,
   "id": "e2e7029a-0bf1-48ac-a1e6-8d2c8e2e897c",
   "metadata": {},
   "outputs": [],
   "source": [
    "\n"
   ]
  }
 ],
 "metadata": {
  "kernelspec": {
   "display_name": "Python 3 (ipykernel)",
   "language": "python",
   "name": "python3"
  },
  "language_info": {
   "codemirror_mode": {
    "name": "ipython",
    "version": 3
   },
   "file_extension": ".py",
   "mimetype": "text/x-python",
   "name": "python",
   "nbconvert_exporter": "python",
   "pygments_lexer": "ipython3",
   "version": "3.8.16"
  }
 },
 "nbformat": 4,
 "nbformat_minor": 5
}
