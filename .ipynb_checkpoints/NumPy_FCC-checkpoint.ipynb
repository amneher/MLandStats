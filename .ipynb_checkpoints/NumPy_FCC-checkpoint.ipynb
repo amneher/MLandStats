{
 "cells": [
  {
   "cell_type": "code",
   "execution_count": 1,
   "id": "75cb6360-16e0-43ab-b6ae-8b9df4458c7d",
   "metadata": {},
   "outputs": [],
   "source": [
    "import numpy as np"
   ]
  },
  {
   "cell_type": "code",
   "execution_count": 10,
   "id": "60d1afcb-2b8e-4dcc-91ff-00fc5d1b2d42",
   "metadata": {},
   "outputs": [
    {
     "name": "stdout",
     "output_type": "stream",
     "text": [
      "[[6 5 4 3 2 1]\n",
      " [0 9 8 7 6 5]]\n"
     ]
    }
   ],
   "source": [
    "a = np.array([[6, 5, 4, 3, 2, 1], [0, 9, 8, 7, 6, 5]], dtype=\"int16\")\n",
    "print(a)"
   ]
  },
  {
   "cell_type": "code",
   "execution_count": 6,
   "id": "2c3147d8-6f60-4f02-a0fa-c155d03de1c5",
   "metadata": {},
   "outputs": [
    {
     "name": "stdout",
     "output_type": "stream",
     "text": [
      "2\n",
      "(2, 6)\n"
     ]
    }
   ],
   "source": [
    "print(a.ndim)\n",
    "print(a.shape)"
   ]
  },
  {
   "cell_type": "code",
   "execution_count": 11,
   "id": "18521d69-89d1-497d-9213-1e7b1fcd9f75",
   "metadata": {},
   "outputs": [
    {
     "name": "stdout",
     "output_type": "stream",
     "text": [
      "int16\n"
     ]
    }
   ],
   "source": [
    "print(a.dtype)"
   ]
  },
  {
   "cell_type": "code",
   "execution_count": 12,
   "id": "5933ba5d-a746-45ef-9a3d-dc7e9f1219ab",
   "metadata": {},
   "outputs": [
    {
     "name": "stdout",
     "output_type": "stream",
     "text": [
      "2\n",
      "12\n"
     ]
    }
   ],
   "source": [
    "print(a.itemsize)\n",
    "print(a.size)"
   ]
  },
  {
   "cell_type": "code",
   "execution_count": 21,
   "id": "5000e7fd-1f7d-471b-a034-252f07ba5f15",
   "metadata": {},
   "outputs": [
    {
     "name": "stdout",
     "output_type": "stream",
     "text": [
      "[0 9 8 7 6 5]\n",
      "7\n",
      "[[6 4 2]\n",
      " [0 8 6]]\n"
     ]
    }
   ],
   "source": [
    "print(a[1])\n",
    "print(a[1, 3])\n",
    "print(a[:, ::2])"
   ]
  },
  {
   "cell_type": "code",
   "execution_count": 23,
   "id": "659f5fb8-ac96-4bdc-ab5a-f307b082f8bd",
   "metadata": {},
   "outputs": [
    {
     "data": {
      "text/plain": [
       "(2, 2, 3)"
      ]
     },
     "execution_count": 23,
     "metadata": {},
     "output_type": "execute_result"
    }
   ],
   "source": [
    "b = np.array([\n",
    "    [\n",
    "        [1, 2, 3],\n",
    "        [4, 5, 6]\n",
    "    ],\n",
    "    [\n",
    "        [7, 8, 9],\n",
    "        [10, 11, 12]\n",
    "    ]\n",
    "])\n",
    "b.shape"
   ]
  },
  {
   "cell_type": "code",
   "execution_count": 25,
   "id": "d9de5274-9692-41ac-99f7-ea3e918f9a5a",
   "metadata": {},
   "outputs": [
    {
     "data": {
      "text/plain": [
       "array([[[[0., 0.],\n",
       "         [0., 0.],\n",
       "         [0., 0.]],\n",
       "\n",
       "        [[0., 0.],\n",
       "         [0., 0.],\n",
       "         [0., 0.]],\n",
       "\n",
       "        [[0., 0.],\n",
       "         [0., 0.],\n",
       "         [0., 0.]]],\n",
       "\n",
       "\n",
       "       [[[0., 0.],\n",
       "         [0., 0.],\n",
       "         [0., 0.]],\n",
       "\n",
       "        [[0., 0.],\n",
       "         [0., 0.],\n",
       "         [0., 0.]],\n",
       "\n",
       "        [[0., 0.],\n",
       "         [0., 0.],\n",
       "         [0., 0.]]]])"
      ]
     },
     "execution_count": 25,
     "metadata": {},
     "output_type": "execute_result"
    }
   ],
   "source": [
    "c = np.zeros((2, 3, 3, 2))\n",
    "c"
   ]
  },
  {
   "cell_type": "code",
   "execution_count": 26,
   "id": "89cae584-1535-490e-b4ea-1b3dd2280285",
   "metadata": {},
   "outputs": [
    {
     "data": {
      "text/plain": [
       "array([[[[1., 1.],\n",
       "         [1., 1.],\n",
       "         [1., 1.]],\n",
       "\n",
       "        [[1., 1.],\n",
       "         [1., 1.],\n",
       "         [1., 1.]],\n",
       "\n",
       "        [[1., 1.],\n",
       "         [1., 1.],\n",
       "         [1., 1.]]],\n",
       "\n",
       "\n",
       "       [[[1., 1.],\n",
       "         [1., 1.],\n",
       "         [1., 1.]],\n",
       "\n",
       "        [[1., 1.],\n",
       "         [1., 1.],\n",
       "         [1., 1.]],\n",
       "\n",
       "        [[1., 1.],\n",
       "         [1., 1.],\n",
       "         [1., 1.]]]])"
      ]
     },
     "execution_count": 26,
     "metadata": {},
     "output_type": "execute_result"
    }
   ],
   "source": [
    "d = np.ones((2, 3, 3, 2))\n",
    "d"
   ]
  },
  {
   "cell_type": "code",
   "execution_count": 28,
   "id": "7101fdde-8f15-4f7b-a4a6-ed891d1580e3",
   "metadata": {},
   "outputs": [
    {
     "data": {
      "text/plain": [
       "array([[[[9, 9],\n",
       "         [9, 9],\n",
       "         [9, 9]],\n",
       "\n",
       "        [[9, 9],\n",
       "         [9, 9],\n",
       "         [9, 9]],\n",
       "\n",
       "        [[9, 9],\n",
       "         [9, 9],\n",
       "         [9, 9]]],\n",
       "\n",
       "\n",
       "       [[[9, 9],\n",
       "         [9, 9],\n",
       "         [9, 9]],\n",
       "\n",
       "        [[9, 9],\n",
       "         [9, 9],\n",
       "         [9, 9]],\n",
       "\n",
       "        [[9, 9],\n",
       "         [9, 9],\n",
       "         [9, 9]]]])"
      ]
     },
     "execution_count": 28,
     "metadata": {},
     "output_type": "execute_result"
    }
   ],
   "source": [
    "e = np.full((2, 3, 3, 2), 9)\n",
    "e"
   ]
  },
  {
   "cell_type": "code",
   "execution_count": 29,
   "id": "11e61960-d3ba-4f34-85bf-3e85bee7a49c",
   "metadata": {},
   "outputs": [
    {
     "data": {
      "text/plain": [
       "array([[[[6, 6],\n",
       "         [6, 6],\n",
       "         [6, 6]],\n",
       "\n",
       "        [[6, 6],\n",
       "         [6, 6],\n",
       "         [6, 6]],\n",
       "\n",
       "        [[6, 6],\n",
       "         [6, 6],\n",
       "         [6, 6]]],\n",
       "\n",
       "\n",
       "       [[[6, 6],\n",
       "         [6, 6],\n",
       "         [6, 6]],\n",
       "\n",
       "        [[6, 6],\n",
       "         [6, 6],\n",
       "         [6, 6]],\n",
       "\n",
       "        [[6, 6],\n",
       "         [6, 6],\n",
       "         [6, 6]]]])"
      ]
     },
     "execution_count": 29,
     "metadata": {},
     "output_type": "execute_result"
    }
   ],
   "source": [
    "f = np.full_like(c, 6)\n",
    "f"
   ]
  },
  {
   "cell_type": "code",
   "execution_count": 30,
   "id": "a1a20261-25f2-4efd-b230-2b85470196cf",
   "metadata": {},
   "outputs": [
    {
     "data": {
      "text/plain": [
       "array([[[[0.54289251, 0.68105541],\n",
       "         [0.49662588, 0.59140636],\n",
       "         [0.0360063 , 0.1218568 ]],\n",
       "\n",
       "        [[0.9212556 , 0.02768147],\n",
       "         [0.31453718, 0.0851331 ],\n",
       "         [0.25926929, 0.42768863]],\n",
       "\n",
       "        [[0.91561711, 0.71562853],\n",
       "         [0.91157747, 0.72350442],\n",
       "         [0.97036439, 0.6516958 ]]],\n",
       "\n",
       "\n",
       "       [[[0.56407688, 0.85737469],\n",
       "         [0.94308462, 0.76995881],\n",
       "         [0.37950159, 0.63015394]],\n",
       "\n",
       "        [[0.1213155 , 0.88120209],\n",
       "         [0.2656372 , 0.44649797],\n",
       "         [0.45927745, 0.05617243]],\n",
       "\n",
       "        [[0.94367937, 0.84144246],\n",
       "         [0.30127859, 0.91251993],\n",
       "         [0.66159788, 0.66190897]]]])"
      ]
     },
     "execution_count": 30,
     "metadata": {},
     "output_type": "execute_result"
    }
   ],
   "source": [
    "g = np.random.rand(2, 3, 3, 2)\n",
    "g"
   ]
  },
  {
   "cell_type": "code",
   "execution_count": 33,
   "id": "6391faa5-9c05-426a-bc99-b9dfaeb06def",
   "metadata": {},
   "outputs": [
    {
     "data": {
      "text/plain": [
       "array([[[[0.86053542, 0.29876174],\n",
       "         [0.80100032, 0.55656858],\n",
       "         [0.66205133, 0.91552791]],\n",
       "\n",
       "        [[0.39328423, 0.58993818],\n",
       "         [0.02408923, 0.61729465],\n",
       "         [0.55628638, 0.42096587]],\n",
       "\n",
       "        [[0.07093536, 0.63262191],\n",
       "         [0.45986981, 0.33124722],\n",
       "         [0.45669953, 0.26688291]]],\n",
       "\n",
       "\n",
       "       [[[0.44711088, 0.60254035],\n",
       "         [0.04024992, 0.09437891],\n",
       "         [0.28685748, 0.03253319]],\n",
       "\n",
       "        [[0.52300015, 0.27811057],\n",
       "         [0.9407229 , 0.98252102],\n",
       "         [0.76777731, 0.76818707]],\n",
       "\n",
       "        [[0.88191529, 0.33168376],\n",
       "         [0.91559392, 0.5163688 ],\n",
       "         [0.07593302, 0.43304456]]]])"
      ]
     },
     "execution_count": 33,
     "metadata": {},
     "output_type": "execute_result"
    }
   ],
   "source": [
    "h = np.random.random_sample(c.shape)\n",
    "h"
   ]
  },
  {
   "cell_type": "code",
   "execution_count": 34,
   "id": "d267f61b-2484-4603-99c9-c59dff8310f9",
   "metadata": {},
   "outputs": [
    {
     "data": {
      "text/plain": [
       "array([[0, 1, 1],\n",
       "       [1, 0, 1],\n",
       "       [1, 1, 1]])"
      ]
     },
     "execution_count": 34,
     "metadata": {},
     "output_type": "execute_result"
    }
   ],
   "source": [
    "i = np.random.randint(2, size=(3, 3))\n",
    "i"
   ]
  },
  {
   "cell_type": "code",
   "execution_count": 35,
   "id": "d8b5c108-9dd5-4ab7-bdf7-d9220b268746",
   "metadata": {},
   "outputs": [
    {
     "data": {
      "text/plain": [
       "array([[1., 0., 0., 0., 0.],\n",
       "       [0., 1., 0., 0., 0.],\n",
       "       [0., 0., 1., 0., 0.],\n",
       "       [0., 0., 0., 1., 0.],\n",
       "       [0., 0., 0., 0., 1.]])"
      ]
     },
     "execution_count": 35,
     "metadata": {},
     "output_type": "execute_result"
    }
   ],
   "source": [
    "j = np.identity(5)\n",
    "j"
   ]
  },
  {
   "cell_type": "code",
   "execution_count": 37,
   "id": "7dd9e46a-757f-41bd-a305-2e1e4e25bd3d",
   "metadata": {},
   "outputs": [
    {
     "data": {
      "text/plain": [
       "array([[1, 2, 3],\n",
       "       [1, 2, 3],\n",
       "       [1, 2, 3]])"
      ]
     },
     "execution_count": 37,
     "metadata": {},
     "output_type": "execute_result"
    }
   ],
   "source": [
    "arr = np.array([[1, 2, 3]])\n",
    "k = np.repeat(arr, 3, axis=0)\n",
    "k"
   ]
  },
  {
   "cell_type": "code",
   "execution_count": 40,
   "id": "e91395f5-d783-48c1-a930-82a21d64f3a8",
   "metadata": {},
   "outputs": [
    {
     "data": {
      "text/plain": [
       "array([[1., 1., 1., 1., 1.],\n",
       "       [1., 0., 0., 0., 1.],\n",
       "       [1., 0., 9., 0., 1.],\n",
       "       [1., 0., 0., 0., 1.],\n",
       "       [1., 1., 1., 1., 1.]])"
      ]
     },
     "execution_count": 40,
     "metadata": {},
     "output_type": "execute_result"
    }
   ],
   "source": [
    "output = np.ones((5, 5))\n",
    "output\n",
    "zeroes = np.zeros((3, 3))\n",
    "zeroes[1,1] = 9\n",
    "zeroes\n",
    "output[1:-1, 1:-1] = zeroes\n",
    "output"
   ]
  },
  {
   "cell_type": "code",
   "execution_count": 42,
   "id": "9bf986a2-a402-4364-839b-9bf7291b0173",
   "metadata": {},
   "outputs": [
    {
     "name": "stdout",
     "output_type": "stream",
     "text": [
      "[9 2 3]\n",
      "[9 2 3]\n"
     ]
    }
   ],
   "source": [
    "l = np.array([1, 2, 3])\n",
    "m = l\n",
    "m[0] = 9\n",
    "print(m)\n",
    "print(l)"
   ]
  },
  {
   "cell_type": "code",
   "execution_count": 43,
   "id": "d0af4d3b-6bb4-4d03-bd2b-1c8eb9edffaa",
   "metadata": {},
   "outputs": [
    {
     "name": "stdout",
     "output_type": "stream",
     "text": [
      "[9 2 3]\n",
      "[1 2 3]\n"
     ]
    }
   ],
   "source": [
    "l = np.array([1, 2, 3])\n",
    "m = l.copy()\n",
    "m[0] = 9\n",
    "print(m)\n",
    "print(l)"
   ]
  },
  {
   "cell_type": "code",
   "execution_count": 44,
   "id": "42dd4416-5407-493f-83b4-4f0d95e57a38",
   "metadata": {},
   "outputs": [
    {
     "data": {
      "text/plain": [
       "array([3, 4, 5])"
      ]
     },
     "execution_count": 44,
     "metadata": {},
     "output_type": "execute_result"
    }
   ],
   "source": [
    "l + 2"
   ]
  },
  {
   "cell_type": "code",
   "execution_count": 45,
   "id": "ee1e7274-6163-464a-92b3-8e96092bf1db",
   "metadata": {},
   "outputs": [
    {
     "data": {
      "text/plain": [
       "array([3, 6, 9])"
      ]
     },
     "execution_count": 45,
     "metadata": {},
     "output_type": "execute_result"
    }
   ],
   "source": [
    "l * 3"
   ]
  },
  {
   "cell_type": "code",
   "execution_count": 46,
   "id": "cc71d4f5-5bf9-4dd0-8165-3dea87896a40",
   "metadata": {},
   "outputs": [
    {
     "data": {
      "text/plain": [
       "array([0.5, 1. , 1.5])"
      ]
     },
     "execution_count": 46,
     "metadata": {},
     "output_type": "execute_result"
    }
   ],
   "source": [
    "l / 2"
   ]
  },
  {
   "cell_type": "code",
   "execution_count": 47,
   "id": "3a0bb483-0840-4bac-9d60-b29d5c001a1c",
   "metadata": {},
   "outputs": [
    {
     "data": {
      "text/plain": [
       "array([ 1,  8, 27])"
      ]
     },
     "execution_count": 47,
     "metadata": {},
     "output_type": "execute_result"
    }
   ],
   "source": [
    "l ** 3"
   ]
  },
  {
   "cell_type": "code",
   "execution_count": 48,
   "id": "dc97e3ee-8690-44fc-9834-df0f7cac18b9",
   "metadata": {},
   "outputs": [
    {
     "data": {
      "text/plain": [
       "array([0.84147098, 0.90929743, 0.14112001])"
      ]
     },
     "execution_count": 48,
     "metadata": {},
     "output_type": "execute_result"
    }
   ],
   "source": [
    "np.sin(l)"
   ]
  },
  {
   "cell_type": "code",
   "execution_count": 49,
   "id": "f43f8a3b-b84c-420c-8b8b-ac68e8818666",
   "metadata": {},
   "outputs": [
    {
     "data": {
      "text/plain": [
       "array([ 0.54030231, -0.41614684, -0.9899925 ])"
      ]
     },
     "execution_count": 49,
     "metadata": {},
     "output_type": "execute_result"
    }
   ],
   "source": [
    "np.cos(l)"
   ]
  },
  {
   "cell_type": "code",
   "execution_count": 50,
   "id": "30556c27-bec5-447d-9e5c-703fff939dfa",
   "metadata": {},
   "outputs": [],
   "source": [
    "# https://docs.scipy.org/doc/numpy/reference/routines.math.html\n",
    "# for all the regular math possibilities..."
   ]
  },
  {
   "cell_type": "markdown",
   "id": "d9156ae8-a7a1-4ef4-9cd4-ec7c1a6d0838",
   "metadata": {},
   "source": [
    "##### Linear Algebra"
   ]
  },
  {
   "cell_type": "code",
   "execution_count": 52,
   "id": "b063da73-44c8-427c-b921-c7c9b6e4cd4a",
   "metadata": {},
   "outputs": [
    {
     "data": {
      "text/plain": [
       "(array([[1., 1., 1.],\n",
       "        [1., 1., 1.]]),\n",
       " array([[2, 2],\n",
       "        [2, 2],\n",
       "        [2, 2]]))"
      ]
     },
     "execution_count": 52,
     "metadata": {},
     "output_type": "execute_result"
    }
   ],
   "source": [
    "aa = np.ones((2,3))\n",
    "ba = np.full((3,2), 2)\n",
    "aa, ba"
   ]
  },
  {
   "cell_type": "code",
   "execution_count": 53,
   "id": "c1e19670-b7a9-46f3-9874-1593d41b6b33",
   "metadata": {},
   "outputs": [
    {
     "data": {
      "text/plain": [
       "array([[6., 6.],\n",
       "       [6., 6.]])"
      ]
     },
     "execution_count": 53,
     "metadata": {},
     "output_type": "execute_result"
    }
   ],
   "source": [
    "np.matmul(aa, ba)"
   ]
  },
  {
   "cell_type": "code",
   "execution_count": 55,
   "id": "3ca8afd6-31e7-4d4e-b55f-7cf18e3b7802",
   "metadata": {},
   "outputs": [
    {
     "data": {
      "text/plain": [
       "1.0"
      ]
     },
     "execution_count": 55,
     "metadata": {},
     "output_type": "execute_result"
    }
   ],
   "source": [
    "ca = np.identity(3)\n",
    "np.linalg.det(ca)"
   ]
  },
  {
   "cell_type": "code",
   "execution_count": 56,
   "id": "135e5652-2610-4079-b0e5-4497f2bfe18c",
   "metadata": {},
   "outputs": [],
   "source": [
    "# https://docs.scipy.org/doc/numpy/reference/routines.linalg.html\n",
    "# for all the linear algebra possibilities..."
   ]
  },
  {
   "cell_type": "markdown",
   "id": "c08df3a5-1a4e-441b-b944-1ac13c286869",
   "metadata": {},
   "source": [
    "##### Statistics"
   ]
  },
  {
   "cell_type": "code",
   "execution_count": 57,
   "id": "aeac653b-0054-4bfb-bde4-9567f36a6ca4",
   "metadata": {},
   "outputs": [
    {
     "data": {
      "text/plain": [
       "array([[1, 2, 3],\n",
       "       [4, 5, 6]])"
      ]
     },
     "execution_count": 57,
     "metadata": {},
     "output_type": "execute_result"
    }
   ],
   "source": [
    "bb = np.array([[1,2,3], [4,5,6]])\n",
    "bb"
   ]
  },
  {
   "cell_type": "code",
   "execution_count": 60,
   "id": "5075b930-9a7c-4ae2-87a0-91d5c16a517f",
   "metadata": {},
   "outputs": [
    {
     "data": {
      "text/plain": [
       "(1, array([1, 2, 3]), array([1, 4]))"
      ]
     },
     "execution_count": 60,
     "metadata": {},
     "output_type": "execute_result"
    }
   ],
   "source": [
    "np.min(bb), np.min(bb, axis=0), np.min(bb, axis=1)"
   ]
  },
  {
   "cell_type": "code",
   "execution_count": 61,
   "id": "5a9a7fff-c486-4f4c-96ce-c1bde6610f63",
   "metadata": {},
   "outputs": [
    {
     "data": {
      "text/plain": [
       "(6, array([4, 5, 6]), array([3, 6]))"
      ]
     },
     "execution_count": 61,
     "metadata": {},
     "output_type": "execute_result"
    }
   ],
   "source": [
    "np.max(bb), np.max(bb, axis=0), np.max(bb, axis=1)"
   ]
  },
  {
   "cell_type": "code",
   "execution_count": 62,
   "id": "878eb2a9-86b0-43c8-946c-3b59f791fc44",
   "metadata": {},
   "outputs": [
    {
     "data": {
      "text/plain": [
       "(21, array([5, 7, 9]), array([ 6, 15]))"
      ]
     },
     "execution_count": 62,
     "metadata": {},
     "output_type": "execute_result"
    }
   ],
   "source": [
    "np.sum(bb), np.sum(bb, axis=0), np.sum(bb, axis=1)"
   ]
  },
  {
   "cell_type": "markdown",
   "id": "7e21ec29-9456-407d-b352-5f5a2ceb8bc0",
   "metadata": {},
   "source": [
    "##### Reorganizing Arrays"
   ]
  },
  {
   "cell_type": "code",
   "execution_count": 63,
   "id": "a4602aa3-1710-4ffd-9d5e-4f28db4763b5",
   "metadata": {},
   "outputs": [
    {
     "data": {
      "text/plain": [
       "array([[1, 2, 3, 4],\n",
       "       [5, 6, 7, 8]])"
      ]
     },
     "execution_count": 63,
     "metadata": {},
     "output_type": "execute_result"
    }
   ],
   "source": [
    "before = np.array([[1,2,3,4],[5,6,7,8]])\n",
    "before"
   ]
  },
  {
   "cell_type": "code",
   "execution_count": 64,
   "id": "7f0209ad-2d25-4db7-9892-4bec1733dc5c",
   "metadata": {},
   "outputs": [
    {
     "data": {
      "text/plain": [
       "array([[1],\n",
       "       [2],\n",
       "       [3],\n",
       "       [4],\n",
       "       [5],\n",
       "       [6],\n",
       "       [7],\n",
       "       [8]])"
      ]
     },
     "execution_count": 64,
     "metadata": {},
     "output_type": "execute_result"
    }
   ],
   "source": [
    "before.reshape((8,1))"
   ]
  },
  {
   "cell_type": "code",
   "execution_count": 66,
   "id": "2ca70f36-760e-43a6-a5e1-7dccea15ff40",
   "metadata": {},
   "outputs": [
    {
     "data": {
      "text/plain": [
       "array([[[1, 2],\n",
       "        [3, 4]],\n",
       "\n",
       "       [[5, 6],\n",
       "        [7, 8]]])"
      ]
     },
     "execution_count": 66,
     "metadata": {},
     "output_type": "execute_result"
    }
   ],
   "source": [
    "before.reshape((2,2,2))"
   ]
  },
  {
   "cell_type": "code",
   "execution_count": 67,
   "id": "da62352f-1b08-4c92-b3b5-bc90444b9412",
   "metadata": {},
   "outputs": [
    {
     "ename": "ValueError",
     "evalue": "cannot reshape array of size 8 into shape (3,3)",
     "output_type": "error",
     "traceback": [
      "\u001b[0;31m---------------------------------------------------------------------------\u001b[0m",
      "\u001b[0;31mValueError\u001b[0m                                Traceback (most recent call last)",
      "Cell \u001b[0;32mIn[67], line 2\u001b[0m\n\u001b[1;32m      1\u001b[0m \u001b[38;5;66;03m# reshape must have the same number of elements\u001b[39;00m\n\u001b[0;32m----> 2\u001b[0m \u001b[43mbefore\u001b[49m\u001b[38;5;241;43m.\u001b[39;49m\u001b[43mreshape\u001b[49m\u001b[43m(\u001b[49m\u001b[43m(\u001b[49m\u001b[38;5;241;43m3\u001b[39;49m\u001b[43m,\u001b[49m\u001b[38;5;241;43m3\u001b[39;49m\u001b[43m)\u001b[49m\u001b[43m)\u001b[49m\n",
      "\u001b[0;31mValueError\u001b[0m: cannot reshape array of size 8 into shape (3,3)"
     ]
    }
   ],
   "source": [
    "# reshape must have the same number of elements\n",
    "before.reshape((3,3))"
   ]
  },
  {
   "cell_type": "code",
   "execution_count": 69,
   "id": "b6981612-1f06-421e-9aae-41ecdcef1131",
   "metadata": {},
   "outputs": [
    {
     "data": {
      "text/plain": [
       "(array([[1, 2, 3, 4],\n",
       "        [5, 6, 7, 8]]),\n",
       " array([[1, 2, 3, 4],\n",
       "        [5, 6, 7, 8],\n",
       "        [1, 2, 3, 4],\n",
       "        [5, 6, 7, 8]]))"
      ]
     },
     "execution_count": 69,
     "metadata": {},
     "output_type": "execute_result"
    }
   ],
   "source": [
    "# Vertically stack vectors\n",
    "v1 = np.array([1,2,3,4])\n",
    "v2 = np.array([5,6,7,8])\n",
    "\n",
    "np.vstack([v1, v2]), np.vstack([v1, v2, v1, v2])"
   ]
  },
  {
   "cell_type": "code",
   "execution_count": 72,
   "id": "63ec26f0-d72d-4064-929e-51bb65816d59",
   "metadata": {},
   "outputs": [
    {
     "data": {
      "text/plain": [
       "(array([[1., 1., 1., 1., 0., 0.],\n",
       "        [1., 1., 1., 1., 0., 0.]]),\n",
       " array([[1., 1., 1., 1., 0., 0., 1., 1., 1., 1.],\n",
       "        [1., 1., 1., 1., 0., 0., 1., 1., 1., 1.]]))"
      ]
     },
     "execution_count": 72,
     "metadata": {},
     "output_type": "execute_result"
    }
   ],
   "source": [
    "# Horizontally stacking vectors\n",
    "h1 = np.ones((2, 4))\n",
    "h2 = np.zeros((2,2))\n",
    "\n",
    "np.hstack([h1, h2]), np.hstack([h1, h2, h1])"
   ]
  },
  {
   "cell_type": "markdown",
   "id": "cee58cec-69f2-407f-9a58-6a28f04c3fcd",
   "metadata": {},
   "source": [
    "##### Miscellaneous"
   ]
  },
  {
   "cell_type": "markdown",
   "id": "04f86cbb-02db-4f3f-a9ff-f84d56000270",
   "metadata": {},
   "source": [
    "*Load data from file*"
   ]
  },
  {
   "cell_type": "code",
   "execution_count": 77,
   "id": "1fd6fbb8-5889-47d5-8f02-9d2695af8abf",
   "metadata": {},
   "outputs": [
    {
     "data": {
      "text/plain": [
       "array([[20,  1, 20,  1, 20,  0, 20,  0],\n",
       "       [23,  1, 23,  1, 21,  0, 21,  0],\n",
       "       [25,  1, 25,  1, 25,  0, 25,  0],\n",
       "       [26,  1, 26,  1, 26,  0, 26,  0],\n",
       "       [29,  1, 29,  1, 27,  0, 27,  0],\n",
       "       [30,  1, 30,  1, 30,  0, 30,  0],\n",
       "       [31,  1, 31,  1, 31,  0, 31,  0],\n",
       "       [33,  1, 33,  1, 34,  0, 34,  0],\n",
       "       [37,  1, 37,  1, 35,  0, 35,  0]], dtype=int16)"
      ]
     },
     "execution_count": 77,
     "metadata": {},
     "output_type": "execute_result"
    }
   ],
   "source": [
    "file_data = np.genfromtxt('../data/data.txt', delimiter=',', dtype='int16')\n",
    "file_data"
   ]
  },
  {
   "cell_type": "markdown",
   "id": "e568f716-9a4b-49c3-b094-977053bbf48b",
   "metadata": {},
   "source": [
    "##### Boolean Masking and Advanced Indexing"
   ]
  },
  {
   "cell_type": "code",
   "execution_count": 79,
   "id": "9278e681-62d4-4e3f-8650-7e05c10111b2",
   "metadata": {},
   "outputs": [
    {
     "data": {
      "text/plain": [
       "array([[ True, False,  True, False,  True, False,  True, False],\n",
       "       [ True, False,  True, False,  True, False,  True, False],\n",
       "       [ True, False,  True, False,  True, False,  True, False],\n",
       "       [ True, False,  True, False,  True, False,  True, False],\n",
       "       [ True, False,  True, False,  True, False,  True, False],\n",
       "       [ True, False,  True, False,  True, False,  True, False],\n",
       "       [ True, False,  True, False,  True, False,  True, False],\n",
       "       [ True, False,  True, False,  True, False,  True, False],\n",
       "       [ True, False,  True, False,  True, False,  True, False]])"
      ]
     },
     "execution_count": 79,
     "metadata": {},
     "output_type": "execute_result"
    }
   ],
   "source": [
    "file_data > 5"
   ]
  },
  {
   "cell_type": "code",
   "execution_count": 80,
   "id": "fe7661c3-bf87-4c0f-9539-6375d63c74a2",
   "metadata": {},
   "outputs": [
    {
     "data": {
      "text/plain": [
       "array([20, 20, 20, 20, 23, 23, 21, 21, 25, 25, 25, 25, 26, 26, 26, 26, 29,\n",
       "       29, 27, 27, 30, 30, 30, 30, 31, 31, 31, 31, 33, 33, 34, 34, 37, 37,\n",
       "       35, 35], dtype=int16)"
      ]
     },
     "execution_count": 80,
     "metadata": {},
     "output_type": "execute_result"
    }
   ],
   "source": [
    "file_data[file_data > 5]"
   ]
  },
  {
   "cell_type": "code",
   "execution_count": 81,
   "id": "bcc442be-3f46-43df-8d3c-24312ef0401a",
   "metadata": {},
   "outputs": [
    {
     "data": {
      "text/plain": [
       "array([[23,  1, 23,  1, 21,  0, 21,  0],\n",
       "       [26,  1, 26,  1, 26,  0, 26,  0],\n",
       "       [30,  1, 30,  1, 30,  0, 30,  0]], dtype=int16)"
      ]
     },
     "execution_count": 81,
     "metadata": {},
     "output_type": "execute_result"
    }
   ],
   "source": [
    "file_data[[1, 3, 5]]"
   ]
  },
  {
   "cell_type": "code",
   "execution_count": 82,
   "id": "3711f04e-7099-4277-a331-98b77fe1ef98",
   "metadata": {},
   "outputs": [
    {
     "data": {
      "text/plain": [
       "array([False,  True,  True,  True,  True,  True,  True,  True,  True])"
      ]
     },
     "execution_count": 82,
     "metadata": {},
     "output_type": "execute_result"
    }
   ],
   "source": [
    "np.any(file_data > 20, axis=1)"
   ]
  },
  {
   "cell_type": "code",
   "execution_count": 83,
   "id": "4395a55c-a896-41e7-a2ab-25a3eb8b57c1",
   "metadata": {},
   "outputs": [
    {
     "data": {
      "text/plain": [
       "array([[False, False, False, False, False, False, False, False],\n",
       "       [ True, False,  True, False,  True, False,  True, False],\n",
       "       [ True, False,  True, False,  True, False,  True, False],\n",
       "       [ True, False,  True, False,  True, False,  True, False],\n",
       "       [ True, False,  True, False,  True, False,  True, False],\n",
       "       [False, False, False, False, False, False, False, False],\n",
       "       [False, False, False, False, False, False, False, False],\n",
       "       [False, False, False, False, False, False, False, False],\n",
       "       [False, False, False, False, False, False, False, False]])"
      ]
     },
     "execution_count": 83,
     "metadata": {},
     "output_type": "execute_result"
    }
   ],
   "source": [
    "((file_data > 20) & (file_data < 30))"
   ]
  },
  {
   "cell_type": "code",
   "execution_count": 88,
   "id": "f901c0a6-4d78-4d50-89b7-e34dba4ef74d",
   "metadata": {},
   "outputs": [
    {
     "data": {
      "text/plain": [
       "array([26,  1, 30], dtype=int16)"
      ]
     },
     "execution_count": 88,
     "metadata": {},
     "output_type": "execute_result"
    }
   ],
   "source": [
    "# selecting a 'diagonal'\n",
    "file_data[[3, 4, 5], [0, 1, 2]]"
   ]
  },
  {
   "cell_type": "code",
   "execution_count": 89,
   "id": "da02bfad-003d-46d7-a4ce-16797bd76a39",
   "metadata": {},
   "outputs": [
    {
     "data": {
      "text/plain": [
       "array([[26,  1, 26],\n",
       "       [29,  1, 29]], dtype=int16)"
      ]
     },
     "execution_count": 89,
     "metadata": {},
     "output_type": "execute_result"
    }
   ],
   "source": [
    "file_data[3:5, 0:3]"
   ]
  },
  {
   "cell_type": "code",
   "execution_count": 94,
   "id": "5727d93b-7dbe-43f7-bb49-f5caac90b0ad",
   "metadata": {},
   "outputs": [
    {
     "data": {
      "text/plain": [
       "array([[20,  0],\n",
       "       [34,  0],\n",
       "       [35,  0]], dtype=int16)"
      ]
     },
     "execution_count": 94,
     "metadata": {},
     "output_type": "execute_result"
    }
   ],
   "source": [
    "file_data[[0,7,8], 6:]"
   ]
  },
  {
   "cell_type": "code",
   "execution_count": null,
   "id": "e304593f-26e5-4472-8e01-1174ed52ed4c",
   "metadata": {},
   "outputs": [],
   "source": []
  }
 ],
 "metadata": {
  "kernelspec": {
   "display_name": "Python 3 (ipykernel)",
   "language": "python",
   "name": "python3"
  },
  "language_info": {
   "codemirror_mode": {
    "name": "ipython",
    "version": 3
   },
   "file_extension": ".py",
   "mimetype": "text/x-python",
   "name": "python",
   "nbconvert_exporter": "python",
   "pygments_lexer": "ipython3",
   "version": "3.8.16"
  }
 },
 "nbformat": 4,
 "nbformat_minor": 5
}
