{
 "cells": [
  {
   "cell_type": "code",
   "execution_count": 1,
   "id": "8f5ad7e5-ee62-4c7a-9e55-b6f7798b9ee2",
   "metadata": {},
   "outputs": [],
   "source": [
    "import torch\n",
    "import numpy as np\n",
    "import pandas as pd\n",
    "from matplotlib import pyplot as plt"
   ]
  },
  {
   "cell_type": "code",
   "execution_count": 4,
   "id": "34950dcb-00be-4892-a328-324e15affd57",
   "metadata": {},
   "outputs": [
    {
     "data": {
      "text/plain": [
       "tensor([[0.7093, 0.8961, 0.6523, 0.2566, 0.4123],\n",
       "        [0.3050, 0.3009, 0.2924, 0.1853, 0.9949],\n",
       "        [0.5225, 0.6590, 0.1740, 0.7266, 0.7634],\n",
       "        [0.6698, 0.2935, 0.8800, 0.7876, 0.1579],\n",
       "        [0.7381, 0.4492, 0.6254, 0.1283, 0.1507]])"
      ]
     },
     "execution_count": 4,
     "metadata": {},
     "output_type": "execute_result"
    }
   ],
   "source": [
    "random_tensor = torch.rand(5,5)\n",
    "random_tensor"
   ]
  },
  {
   "cell_type": "code",
   "execution_count": 3,
   "id": "585383dc-04de-42ca-9795-227a48359945",
   "metadata": {},
   "outputs": [
    {
     "data": {
      "text/plain": [
       "tensor([[59.6066, 74.4578, 58.9445, 17.7223, 21.7215],\n",
       "        [ 6.5286,  2.5044,  7.1234, 64.6138, 61.4259],\n",
       "        [ 7.0390, 57.2257, 85.4152, 89.6138, 18.9219],\n",
       "        [76.8051, 30.7679, 99.8912, 87.8414, 34.3792],\n",
       "        [10.1072, 16.9034,  8.2480, 19.3110, 39.9815]])"
      ]
     },
     "execution_count": 3,
     "metadata": {},
     "output_type": "execute_result"
    }
   ],
   "source": [
    "random_tensor * 100"
   ]
  },
  {
   "cell_type": "code",
   "execution_count": 13,
   "id": "4ff90991-cdb5-41cc-a138-613a77468c6d",
   "metadata": {},
   "outputs": [],
   "source": [
    "rand_img_tensor = torch.rand(224, 224, 3)"
   ]
  },
  {
   "cell_type": "code",
   "execution_count": 14,
   "id": "e33fa647-96ee-491a-aa1c-97badb11b70f",
   "metadata": {},
   "outputs": [],
   "source": [
    "tt = torch.tensor([[1,2,3],[4,5,6],[7,8,9]], dtype=torch.int32)"
   ]
  },
  {
   "cell_type": "code",
   "execution_count": 16,
   "id": "a817b5db-13bf-4703-b293-32fbec7043ff",
   "metadata": {},
   "outputs": [
    {
     "data": {
      "text/plain": [
       "(torch.Size([3, 3]), torch.int32)"
      ]
     },
     "execution_count": 16,
     "metadata": {},
     "output_type": "execute_result"
    }
   ],
   "source": [
    "tt.shape, tt.dtype"
   ]
  },
  {
   "cell_type": "code",
   "execution_count": 22,
   "id": "1c13b279-30f5-4c80-845a-ab3ae9984d0f",
   "metadata": {},
   "outputs": [
    {
     "data": {
      "text/plain": [
       "(torch.Size([3, 3]), torch.int16)"
      ]
     },
     "execution_count": 22,
     "metadata": {},
     "output_type": "execute_result"
    }
   ],
   "source": [
    "ss = torch.full((3,3), 4, dtype=torch.int16)\n",
    "ss.shape, ss.dtype"
   ]
  },
  {
   "cell_type": "code",
   "execution_count": 23,
   "id": "177e619f-b297-49ec-8a37-85fa78cc8c3d",
   "metadata": {},
   "outputs": [
    {
     "data": {
      "text/plain": [
       "tensor([[ 4,  8, 12],\n",
       "        [16, 20, 24],\n",
       "        [28, 32, 36]], dtype=torch.int32)"
      ]
     },
     "execution_count": 23,
     "metadata": {},
     "output_type": "execute_result"
    }
   ],
   "source": [
    "ss * tt"
   ]
  },
  {
   "cell_type": "code",
   "execution_count": 21,
   "id": "d12ff19c-acab-4e3a-88b0-d6376522a9e5",
   "metadata": {},
   "outputs": [
    {
     "data": {
      "text/plain": [
       "device(type='cpu')"
      ]
     },
     "execution_count": 21,
     "metadata": {},
     "output_type": "execute_result"
    }
   ],
   "source": [
    "ss.device"
   ]
  },
  {
   "cell_type": "code",
   "execution_count": 28,
   "id": "f234cbe8-4865-4c41-a451-fc02e5fffcdf",
   "metadata": {},
   "outputs": [
    {
     "data": {
      "text/plain": [
       "tensor([[3., 4., 6., 4., 2.],\n",
       "        [2., 5., 6., 4., 2.],\n",
       "        [2., 4., 7., 4., 2.],\n",
       "        [2., 4., 6., 5., 2.],\n",
       "        [2., 4., 6., 4., 3.]])"
      ]
     },
     "execution_count": 28,
     "metadata": {},
     "output_type": "execute_result"
    }
   ],
   "source": [
    "torch.eye(5) + torch.tensor([2,4,6,4,2], dtype=torch.int16)"
   ]
  },
  {
   "cell_type": "code",
   "execution_count": null,
   "id": "59749d4c-2cfc-422e-88a3-564eb4c1fbc0",
   "metadata": {},
   "outputs": [],
   "source": []
  }
 ],
 "metadata": {
  "kernelspec": {
   "display_name": "Python 3 (ipykernel)",
   "language": "python",
   "name": "python3"
  },
  "language_info": {
   "codemirror_mode": {
    "name": "ipython",
    "version": 3
   },
   "file_extension": ".py",
   "mimetype": "text/x-python",
   "name": "python",
   "nbconvert_exporter": "python",
   "pygments_lexer": "ipython3",
   "version": "3.8.16"
  }
 },
 "nbformat": 4,
 "nbformat_minor": 5
}
